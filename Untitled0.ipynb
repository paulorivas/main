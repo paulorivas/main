{
  "nbformat": 4,
  "nbformat_minor": 0,
  "metadata": {
    "colab": {
      "provenance": [],
      "authorship_tag": "ABX9TyPEXFD3HelNVKwCTjw+U6Q4",
      "include_colab_link": true
    },
    "kernelspec": {
      "name": "python3",
      "display_name": "Python 3"
    },
    "language_info": {
      "name": "python"
    }
  },
  "cells": [
    {
      "cell_type": "markdown",
      "metadata": {
        "id": "view-in-github",
        "colab_type": "text"
      },
      "source": [
        "<a href=\"https://colab.research.google.com/github/paulorivas/main/blob/main/Untitled0.ipynb\" target=\"_parent\"><img src=\"https://colab.research.google.com/assets/colab-badge.svg\" alt=\"Open In Colab\"/></a>"
      ]
    },
    {
      "cell_type": "markdown",
      "source": [
        "# Problema 1"
      ],
      "metadata": {
        "id": "vnWUkxTrRWhI"
      }
    },
    {
      "cell_type": "code",
      "execution_count": 2,
      "metadata": {
        "colab": {
          "base_uri": "https://localhost:8080/"
        },
        "id": "JsJXDu0rPUzN",
        "outputId": "35096ccf-c593-45a0-cc55-2fadea9aff18"
      },
      "outputs": [
        {
          "output_type": "stream",
          "name": "stdout",
          "text": [
            "a_1 = 10\n",
            "a_2 = 19\n",
            "a_3 = 34\n",
            "a_4 = 55\n",
            "a_5 = 82\n"
          ]
        }
      ],
      "source": [
        "#A)\n",
        "\n",
        "for n in range(1,6):\n",
        "  term = 3*n**2+7\n",
        "  print(f'a_{n} = {term}')"
      ]
    }
  ]
}